{
  "nbformat": 4,
  "nbformat_minor": 0,
  "metadata": {
    "kernelspec": {
      "display_name": "base",
      "language": "python",
      "name": "base"
    },
    "language_info": {
      "codemirror_mode": {
        "name": "ipython",
        "version": 3
      },
      "file_extension": ".py",
      "mimetype": "text/x-python",
      "name": "python",
      "nbconvert_exporter": "python",
      "pygments_lexer": "ipython3",
      "version": "3.7.3"
    },
    "toc": {
      "base_numbering": 1,
      "nav_menu": {},
      "number_sections": true,
      "sideBar": true,
      "skip_h1_title": false,
      "title_cell": "Table of Contents",
      "title_sidebar": "Contents",
      "toc_cell": false,
      "toc_position": {},
      "toc_section_display": true,
      "toc_window_display": false
    },
    "colab": {
      "name": "whatsapp_analysis.ipynb",
      "provenance": [],
      "include_colab_link": true
    }
  },
  "cells": [
    {
      "cell_type": "markdown",
      "metadata": {
        "id": "view-in-github",
        "colab_type": "text"
      },
      "source": [
        "<a href=\"https://colab.research.google.com/github/jerpint/whatsapp/blob/master/whatsapp_analysis.ipynb\" target=\"_parent\"><img src=\"https://colab.research.google.com/assets/colab-badge.svg\" alt=\"Open In Colab\"/></a>"
      ]
    },
    {
      "cell_type": "markdown",
      "metadata": {
        "id": "FR85nyp8taJS"
      },
      "source": [
        "##  Getting started\n",
        "\n",
        "### Obtain the chat\n",
        "First, get your chat history from whatsapp. This should come in a .txt file (you can do this directly from WhatsApp).There are different ways to do this, [follow the official instruction](https://faq.whatsapp.com/android/chats/how-to-save-your-chat-history/?lang=en).\n",
        "\n",
        "\n",
        "### ***A note on privacy***\n",
        "WhatsApp conversations are encrypted, however once you obtain a `.txt` file, it is no longer encrypted. Anyone with the file can read its contents. \n",
        "Using the notebook will upload your file to Google servers."
      ]
    },
    {
      "cell_type": "code",
      "metadata": {
        "cellView": "form",
        "id": "cTgGbrxGtaJT"
      },
      "source": [
        "#@title <=== Click the play button\n",
        "import re\n",
        "from tqdm import tqdm\n",
        "import pandas as pd\n",
        "import numpy as np\n",
        "import matplotlib.pyplot as plt\n",
        "import itertools\n",
        "from google.colab import files\n",
        "\n",
        "def extract_line(line):\n",
        "    \"\"\"\n",
        "    Function to extract datetime, sender and message from a given line.\n",
        "\n",
        "    It uses some fancy regex. \n",
        "    \"\"\"\n",
        "    date = []\n",
        "    msg = []\n",
        "    sender_name = []\n",
        "    datetime_pat  = \"\\d\\d\\d\\d\\-\\d\\d-\\d\\d,\\ \\d:\\d\\d:\\d\\d [a-zA-Z][a-zA-Z]\" \n",
        "    date = re.search(datetime_pat, line)\n",
        "\n",
        "    sender_pat = \"(?<=(\\])) [^:]*\" #\"\\-\\ \\w+\\:|\\-\\ \\w+\\ \\w+\\:\" # one or two names\n",
        "    sender = re.search(sender_pat,line)\n",
        "\n",
        "    if date and sender:\n",
        "        if len(sender.group(0)) < 25:\n",
        "            # assumes a name and last name is less than at most N chars. \n",
        "            # Avoids misclassifying a status change with a semi-colon for a name.\n",
        "            date = pd.to_datetime(date.group(0))        \n",
        "            sender_name = sender.group(0)[1:]\n",
        "\n",
        "            msg = line[line.index(sender_name)+len(sender_name)+2:]\n",
        "        \n",
        "    return date, sender_name, msg\n",
        "\n",
        "\n",
        "def chat_txt_to_df(filename):\n",
        "    \"\"\"\n",
        "    Parse the entire convo as a pd.dataframe.\n",
        "    \n",
        "    This can be long depending to run depending on the length of the convo.\n",
        "    Expects filename to be the path to the .txt file of the conversation.\n",
        "    \"\"\"\n",
        "    f = open(filename, 'r', encoding='utf-8')\n",
        "    chat_df = pd.DataFrame(columns=['date','sender','message'])\n",
        "    for count, line in tqdm(enumerate(f)):\n",
        "        date, sender, msg  = extract_line(line)\n",
        "        if sender and msg:\n",
        "            temp_df = pd.Series({'date':date ,'sender':sender,'message':msg})\n",
        "            chat_df = chat_df.append(temp_df, ignore_index=True)\n",
        "\n",
        "    f.close()\n",
        "\n",
        "    # save processed dataframe for easy usage\n",
        "    chat_df.to_csv('processed_chat.csv')\n",
        "    return chat_df\n",
        "\n",
        "uploaded = files.upload()\n",
        "for fn in uploaded.keys():\n",
        "  chat_df = chat_txt_to_df(filename)"
      ],
      "execution_count": null,
      "outputs": []
    },
    {
      "cell_type": "markdown",
      "metadata": {
        "id": "_V5-KAKStaJV"
      },
      "source": [
        "# Run all the next cells"
      ]
    },
    {
      "cell_type": "markdown",
      "metadata": {
        "id": "rlggba53taJW"
      },
      "source": [
        "# Total messages sent :"
      ]
    },
    {
      "cell_type": "code",
      "metadata": {
        "id": "_ajf-oc7taJW"
      },
      "source": [
        "print(f\"We have sent a total of {len(chat_df)} Messages between {min(chat_df.date)} and {max(chat_df.date)}\")"
      ],
      "execution_count": null,
      "outputs": []
    },
    {
      "cell_type": "markdown",
      "metadata": {
        "id": "_GdEfVsItaJW"
      },
      "source": [
        "# Total number of messages sent per person"
      ]
    },
    {
      "cell_type": "code",
      "metadata": {
        "id": "zxY_9enztaJX"
      },
      "source": [
        "# Messages per participant\n",
        "\n",
        "counts = chat_df['sender'].value_counts()/len(chat_df)*100\n",
        "%matplotlib inline\n",
        "fig = counts.plot(kind=\"bar\", title=\"% Messages per person\")"
      ],
      "execution_count": null,
      "outputs": []
    },
    {
      "cell_type": "markdown",
      "metadata": {
        "id": "3AcCxQ8ItaJX"
      },
      "source": [
        "# Interactions"
      ]
    },
    {
      "cell_type": "markdown",
      "metadata": {
        "id": "X9cH8ATwtaJX"
      },
      "source": [
        "Interpret this next graph as \"This person has answered directly to this person this many times\". For example, Alice and Bob answer each other most often. For \"equal\" dialogue, the matrix should be symmetric along its diagonal. Interactions with oneself are ignored."
      ]
    },
    {
      "cell_type": "code",
      "metadata": {
        "id": "fymA-J62taJY"
      },
      "source": [
        "index = {}\n",
        "names = []\n",
        "\n",
        "for count, sender in enumerate(chat_df[\"sender\"].unique()):\n",
        "    index[sender] = count\n",
        "    names.append(sender)\n",
        "\n",
        "\n",
        "interactions = np.zeros((len(index), len(index)))\n",
        "\n",
        "prev_sender = chat_df[\"sender\"].iloc[0]\n",
        "for jj in range(1, len(chat_df)):\n",
        "    current_sender = chat_df[\"sender\"].iloc[jj]\n",
        "    if prev_sender != current_sender:\n",
        "        interactions[index[prev_sender], index[current_sender]] += 1\n",
        "\n",
        "    prev_sender = current_sender\n",
        "\n",
        "\n",
        "def plot_interactions(\n",
        "    cm, classes, normalize=False, title=\"People Interactions\", cmap=plt.cm.coolwarm\n",
        "):\n",
        "\n",
        "    plt.figure(figsize=(20, 20))\n",
        "    plt.imshow(cm, interpolation=\"nearest\", cmap=cmap)\n",
        "    plt.title(title)\n",
        "    plt.colorbar()\n",
        "    tick_marks = np.arange(len(classes))\n",
        "    plt.xticks(tick_marks, classes, rotation=90)\n",
        "    plt.yticks(tick_marks, classes)\n",
        "\n",
        "    fmt = \".2f\" if normalize else \"f\"\n",
        "    thresh = cm.max() / 2.0\n",
        "\n",
        "    plt.tight_layout()\n",
        "    plt.ylabel(\"This person interacts most with\")\n",
        "    plt.xlabel(\"This person\")\n",
        "\n",
        "\n",
        "plot_interactions(interactions, names)"
      ],
      "execution_count": null,
      "outputs": []
    },
    {
      "cell_type": "markdown",
      "metadata": {
        "id": "I4i9yNYTtaJY"
      },
      "source": [
        "# The longest monologue"
      ]
    },
    {
      "cell_type": "code",
      "metadata": {
        "id": "qzlhEXlbtaJZ"
      },
      "source": [
        "prev_sender = []\n",
        "max_spam = 0\n",
        "tmp_spam = 0\n",
        "\n",
        "for jj in range(len(chat_df)):\n",
        "\n",
        "    current_sender = chat_df[\"sender\"].iloc[jj]\n",
        "    if current_sender == prev_sender:\n",
        "        tmp_spam += 1\n",
        "        if tmp_spam > max_spam:\n",
        "            max_spam = tmp_spam\n",
        "            max_spammer = current_sender\n",
        "    else:\n",
        "        tmp_spam = 0\n",
        "\n",
        "    prev_sender = current_sender\n",
        "\n",
        "print(\"The most spam is from %s with %d consecutive messages\" % (max_spammer, max_spam))"
      ],
      "execution_count": null,
      "outputs": []
    },
    {
      "cell_type": "markdown",
      "metadata": {
        "id": "xIwAdzDntaJZ"
      },
      "source": [
        "# Person who has sent the most gifs and stickers"
      ]
    },
    {
      "cell_type": "code",
      "metadata": {
        "scrolled": true,
        "id": "YJIK5VpStaJZ"
      },
      "source": [
        "gifs_sent = {}\n",
        "stickers_sent = {}\n",
        "for sender in chat_df[\"sender\"].unique():\n",
        "    gifs_sent[sender] = 0\n",
        "    stickers_sent[sender] = 0\n",
        "\n",
        "for jj in range(len(chat_df)):\n",
        "    if chat_df[\"message\"].iloc[jj] == \"‎GIF omitted\\n\":\n",
        "        gifs_sent[chat_df[\"sender\"].iloc[jj]] += 1\n",
        "    if chat_df[\"message\"].iloc[jj] == \"‎sticker omitted\\n\":\n",
        "        stickers_sent[chat_df[\"sender\"].iloc[jj]] += 1\n",
        "\n",
        "\n",
        "gifs_pd = pd.DataFrame.from_dict(gifs_sent, orient=\"index\")\n",
        "gifs_pd.sort_values(by=0, ascending=False, inplace=True)\n",
        "gifs_pd = gifs_pd.transpose().iloc[0]\n",
        "_ = gifs_pd.plot(kind=\"bar\", legend=False, title=\"Most gifs sent\")\n",
        "plt.show()\n",
        "\n",
        "stickers_pd = pd.DataFrame.from_dict(stickers_sent, orient=\"index\")\n",
        "stickers_pd.sort_values(by=0, ascending=False, inplace=True)\n",
        "stickers_pd = stickers_pd.transpose().iloc[0]\n",
        "_ = stickers_pd.plot(kind=\"bar\", legend=False, title=\"Most stickers sent\")\n",
        "plt.show()"
      ],
      "execution_count": null,
      "outputs": []
    },
    {
      "cell_type": "markdown",
      "metadata": {
        "id": "OZvp5VnGtaJa"
      },
      "source": [
        "# Most LOL"
      ]
    },
    {
      "cell_type": "code",
      "metadata": {
        "id": "mUb5jgdHtaJa"
      },
      "source": [
        "lulz_sent = {}\n",
        "for sender in chat_df['sender'].unique():\n",
        "    lulz_sent[sender] = 0\n",
        "\n",
        "lulz = [\"lol\",\"lmao\",\"lulz\",\"rofl\",\"lolol\"]\n",
        "\n",
        "for jj in range(len(chat_df)):\n",
        "    if any(x in chat_df[\"message\"].iloc[jj].lower() for x in lulz):\n",
        "        lulz_sent[chat_df['sender'].iloc[jj]] += 1\n",
        "\n",
        "lulz_pd  = pd.DataFrame.from_dict(lulz_sent,orient=\"index\")\n",
        "lulz_pd.sort_values(by=0,ascending=False, inplace=True)\n",
        "lulz_pd = lulz_pd.transpose().iloc[0]\n",
        "\n",
        "_ =lulz_pd.plot(kind='bar', legend = False, title = \"Most LuLz\")"
      ],
      "execution_count": null,
      "outputs": []
    },
    {
      "cell_type": "markdown",
      "metadata": {
        "id": "QN2qNqJRtaJb"
      },
      "source": [
        "# Bigget Slacker (texts during work hours)"
      ]
    },
    {
      "cell_type": "code",
      "metadata": {
        "id": "cF6X71BCtaJb"
      },
      "source": [
        "work_txt_sent = {}\n",
        "for sender in chat_df[\"sender\"].unique():\n",
        "    work_txt_sent[sender] = 0\n",
        "\n",
        "for jj in range(len(chat_df)):\n",
        "    if (\n",
        "        chat_df[\"date\"].iloc[jj].hour > 8\n",
        "        and chat_df[\"date\"].iloc[jj].hour < 17\n",
        "        and chat_df[\"date\"].iloc[jj].isoweekday() < 6\n",
        "    ):\n",
        "        work_txt_sent[chat_df[\"sender\"].iloc[jj]] += 1\n",
        "\n",
        "\n",
        "work_txt_pd = pd.DataFrame.from_dict(work_txt_sent, orient=\"index\")\n",
        "work_txt_pd.sort_values(by=0, ascending=False, inplace=True)\n",
        "work_txt_pd = work_txt_pd.transpose().iloc[0]\n",
        "\n",
        "_ = work_txt_pd.plot(kind=\"bar\", legend=False, title=\"Most texts during work hours\")"
      ],
      "execution_count": null,
      "outputs": []
    },
    {
      "cell_type": "markdown",
      "metadata": {
        "id": "pTuuFb8ptaJc"
      },
      "source": [
        "# The night owls"
      ]
    },
    {
      "cell_type": "code",
      "metadata": {
        "id": "PXdQBmvTtaJc"
      },
      "source": [
        "night_txt_sent = {}\n",
        "for sender in chat_df[\"sender\"].unique():\n",
        "    night_txt_sent[sender] = 0\n",
        "\n",
        "for jj in range(len(chat_df)):\n",
        "    if chat_df[\"date\"].iloc[jj].hour < 6:\n",
        "        night_txt_sent[chat_df[\"sender\"].iloc[jj]] += 1\n",
        "\n",
        "\n",
        "night_txt_pd = pd.DataFrame.from_dict(night_txt_sent, orient=\"index\")\n",
        "night_txt_pd.sort_values(by=0, ascending=False, inplace=True)\n",
        "night_txt_pd = night_txt_pd.transpose().iloc[0]\n",
        "\n",
        "_ = night_txt_pd.plot(\n",
        "    kind=\"bar\", legend=False, title=\"Most texts between midnight and 6 am\"\n",
        ")"
      ],
      "execution_count": null,
      "outputs": []
    },
    {
      "cell_type": "markdown",
      "metadata": {
        "id": "Hzk8uHQ4taJd"
      },
      "source": [
        "# WHY ARE WE YELLING"
      ]
    },
    {
      "cell_type": "code",
      "metadata": {
        "scrolled": true,
        "id": "RFGX-IaPtaJd"
      },
      "source": [
        "yelling_sent = {}\n",
        "for sender in chat_df[\"sender\"].unique():\n",
        "    yelling_sent[sender] = 0\n",
        "\n",
        "for jj in range(len(chat_df)):\n",
        "    if chat_df[\"message\"].iloc[jj].upper() == chat_df[\"message\"].iloc[jj]:\n",
        "        yelling_sent[chat_df[\"sender\"].iloc[jj]] += 1\n",
        "\n",
        "\n",
        "yelling_pd = pd.DataFrame.from_dict(yelling_sent, orient=\"index\")\n",
        "yelling_pd.sort_values(by=0, ascending=False, inplace=True)\n",
        "yelling_pd = yelling_pd.transpose().iloc[0]\n",
        "\n",
        "_ = yelling_pd.plot(kind=\"bar\", legend=False, title=\"MOST YELLING\")"
      ],
      "execution_count": null,
      "outputs": []
    },
    {
      "cell_type": "markdown",
      "metadata": {
        "id": "A3Y__8HMtaJd"
      },
      "source": [
        "# WorldClouds"
      ]
    },
    {
      "cell_type": "code",
      "metadata": {
        "id": "qEet6siktaJd"
      },
      "source": [
        "!pip install wordcloud\n",
        "import wordcloud\n",
        "from os import path\n",
        "from wordcloud import WordCloud\n",
        "\n",
        "%matplotlib inline\n",
        "\n",
        "# ignore messages with images, stickers, gifs, etc.\n",
        "ignore_lines_with = [\"media omitted\", \"sticker omitted\", \"GIF omitted\", \"image omitted\"]\n",
        "\n",
        "all_text = \"\"\n",
        "for idx in range(len(chat_df)):\n",
        "    message = chat_df[\"message\"].iloc[idx]\n",
        "    if not any(ignore in message for ignore in ignore_lines_with):\n",
        "        all_text += (message).lower()\n",
        "\n",
        "# Generate a word cloud image\n",
        "wordcloud = WordCloud().generate(all_text)\n",
        "\n",
        "# Display the generated image:\n",
        "# the matplotlib way:\n",
        "plt.imshow(wordcloud, interpolation=\"bilinear\")\n",
        "plt.axis(\"off\")\n",
        "\n",
        "# lower max_font_size\n",
        "wordcloud = WordCloud(max_font_size=40).generate(all_text)\n",
        "plt.figure()\n",
        "plt.imshow(wordcloud, interpolation=\"bilinear\")\n",
        "plt.axis(\"off\")\n",
        "plt.show()"
      ],
      "execution_count": null,
      "outputs": []
    },
    {
      "cell_type": "code",
      "metadata": {
        "id": "WlUyVidctaJe"
      },
      "source": [
        "\"\"\"\n",
        "Masked wordcloud\n",
        "================\n",
        "Using a mask you can generate wordclouds in arbitrary shapes.\n",
        "\n",
        "\"\"\"\n",
        "from urllib.request import urlopen\n",
        "from PIL import Image\n",
        "from wordcloud import WordCloud, STOPWORDS\n",
        "\n",
        "\n",
        "# read the mask image\n",
        "url = \"https://freestencilgallery.com/wp-content/uploads/2014/09/Doge-Stencil-thumb.jpg\"\n",
        "wordcloud_mask = np.array(Image.open(urlopen(url)))\n",
        "\n",
        "stopwords = set(STOPWORDS)\n",
        "wc = WordCloud(\n",
        "    background_color=\"white\", max_words=4000, mask=wordcloud_mask, stopwords=stopwords\n",
        ")\n",
        "# generate word cloud\n",
        "wc.generate(all_text)\n",
        "\n",
        "# show image\n",
        "plt.figure(figsize=(15, 15))\n",
        "plt.imshow(wc, interpolation=\"bilinear\")\n",
        "plt.axis(\"off\")\n",
        "plt.show()"
      ],
      "execution_count": null,
      "outputs": []
    }
  ]
}